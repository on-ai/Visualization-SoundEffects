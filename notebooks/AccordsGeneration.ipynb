{
 "cells": [
  {
   "cell_type": "code",
   "execution_count": null,
   "metadata": {},
   "outputs": [],
   "source": [
    "# Music Generation"
   ]
  },
  {
   "cell_type": "code",
   "execution_count": 2,
   "metadata": {},
   "outputs": [
    {
     "name": "stdout",
     "output_type": "stream",
     "text": [
      "Collecting mingus\n",
      "  Obtaining dependency information for mingus from https://files.pythonhosted.org/packages/38/10/1203d8059ade882b5951cf52afaf594d7a6eda95b0cd7799916e9734b451/mingus-0.6.1-py2.py3-none-any.whl.metadata\n",
      "  Downloading mingus-0.6.1-py2.py3-none-any.whl.metadata (2.3 kB)\n",
      "Requirement already satisfied: six in d:\\anaconda3\\lib\\site-packages (from mingus) (1.16.0)\n",
      "Downloading mingus-0.6.1-py2.py3-none-any.whl (140 kB)\n",
      "   ---------------------------------------- 0.0/140.0 kB ? eta -:--:--\n",
      "   -- ------------------------------------- 10.2/140.0 kB ? eta -:--:--\n",
      "   -- ------------------------------------- 10.2/140.0 kB ? eta -:--:--\n",
      "   ----------- --------------------------- 41.0/140.0 kB 330.3 kB/s eta 0:00:01\n",
      "   ------------------------------ ------- 112.6/140.0 kB 656.4 kB/s eta 0:00:01\n",
      "   -------------------------------------- 140.0/140.0 kB 694.1 kB/s eta 0:00:00\n",
      "Installing collected packages: mingus\n",
      "Successfully installed mingus-0.6.1\n",
      "Collecting MIDIUtil\n",
      "  Downloading MIDIUtil-1.2.1.tar.gz (1.0 MB)\n",
      "     ---------------------------------------- 0.0/1.0 MB ? eta -:--:--\n",
      "     ---------------------------------------- 0.0/1.0 MB ? eta -:--:--\n",
      "     ---------------------------------------- 0.0/1.0 MB ? eta -:--:--\n",
      "     ---------------------------------------- 0.0/1.0 MB ? eta -:--:--\n",
      "     - -------------------------------------- 0.0/1.0 MB 145.2 kB/s eta 0:00:07\n",
      "     -- ------------------------------------- 0.1/1.0 MB 252.2 kB/s eta 0:00:04\n",
      "     ---- ----------------------------------- 0.1/1.0 MB 385.0 kB/s eta 0:00:03\n",
      "     -------- ------------------------------- 0.2/1.0 MB 621.6 kB/s eta 0:00:02\n",
      "     ---------- ----------------------------- 0.3/1.0 MB 714.4 kB/s eta 0:00:02\n",
      "     ---------------- ----------------------- 0.4/1.0 MB 1.0 MB/s eta 0:00:01\n",
      "     ---------------------- ----------------- 0.6/1.0 MB 1.2 MB/s eta 0:00:01\n",
      "     ------------------------------ --------- 0.8/1.0 MB 1.5 MB/s eta 0:00:01\n",
      "     ---------------------------------------- 1.0/1.0 MB 1.9 MB/s eta 0:00:00\n",
      "  Preparing metadata (setup.py): started\n",
      "  Preparing metadata (setup.py): finished with status 'done'\n",
      "Building wheels for collected packages: MIDIUtil\n",
      "  Building wheel for MIDIUtil (setup.py): started\n",
      "  Building wheel for MIDIUtil (setup.py): finished with status 'done'\n",
      "  Created wheel for MIDIUtil: filename=MIDIUtil-1.2.1-py3-none-any.whl size=55541 sha256=0a931349087236cd99485709c0ded2a2a1910fe1ea1e180632aea6563f39157b\n",
      "  Stored in directory: c:\\users\\onayr\\appdata\\local\\pip\\cache\\wheels\\6c\\42\\75\\fce10c67f06fe627fad8acd1fd3a004a24e07b0f077761fbbd\n",
      "Successfully built MIDIUtil\n",
      "Installing collected packages: MIDIUtil\n",
      "Successfully installed MIDIUtil-1.2.1\n"
     ]
    }
   ],
   "source": [
    "!pip install mingus\n",
    "!pip install MIDIUtil"
   ]
  },
  {
   "cell_type": "code",
   "execution_count": null,
   "metadata": {},
   "outputs": [],
   "source": []
  },
  {
   "cell_type": "code",
   "execution_count": 3,
   "metadata": {},
   "outputs": [
    {
     "name": "stdout",
     "output_type": "stream",
     "text": [
      "['C', 'E', 'G', 'B']\n"
     ]
    }
   ],
   "source": [
    "from mingus.core import chords\n",
    "\n",
    "result = chords.from_shorthand(\"Cmaj7\")\n",
    "\n",
    "print(result)"
   ]
  },
  {
   "cell_type": "code",
   "execution_count": 4,
   "metadata": {},
   "outputs": [
    {
     "name": "stdout",
     "output_type": "stream",
     "text": [
      "['C', 'E', 'G', 'B', 'C', 'E', 'G', 'B', 'F', 'A', 'C', 'E', 'G', 'B', 'D', 'F']\n"
     ]
    }
   ],
   "source": [
    "chord_progression = [\"Cmaj7\", \"Cmaj7\", \"Fmaj7\", \"Gdom7\"]\n",
    "\n",
    "array_of_notes = []\n",
    "for chord in chord_progression:\n",
    "    array_of_notes.extend(chords.from_shorthand(chord))\n",
    "\n",
    "print(array_of_notes)"
   ]
  },
  {
   "cell_type": "code",
   "execution_count": 5,
   "metadata": {},
   "outputs": [],
   "source": [
    "from midiutil import MIDIFile\n",
    "from mingus.core import chords\n",
    "\n",
    "chord_progression = [\"Cmaj7\", \"Cmaj7\", \"Fmaj7\", \"Gdom7\"]\n",
    "\n",
    "NOTES = ['C', 'C#', 'D', 'Eb', 'E', 'F', 'F#', 'G', 'Ab', 'A', 'Bb', 'B']\n",
    "OCTAVES = list(range(11))\n",
    "NOTES_IN_OCTAVE = len(NOTES)\n",
    "\n",
    "errors = {\n",
    "    'notes': 'Bad input, please refer this spec-\\n'\n",
    "}\n",
    "\n",
    "\n",
    "def swap_accidentals(note):\n",
    "    if note == 'Db':\n",
    "        return 'C#'\n",
    "    if note == 'D#':\n",
    "        return 'Eb'\n",
    "    if note == 'E#':\n",
    "        return 'F'\n",
    "    if note == 'Gb':\n",
    "        return 'F#'\n",
    "    if note == 'G#':\n",
    "        return 'Ab'\n",
    "    if note == 'A#':\n",
    "        return 'Bb'\n",
    "    if note == 'B#':\n",
    "        return 'C'\n",
    "\n",
    "    return note\n",
    "\n",
    "\n",
    "def note_to_number(note: str, octave: int) -> int:\n",
    "    note = swap_accidentals(note)\n",
    "    assert note in NOTES, errors['notes']\n",
    "    assert octave in OCTAVES, errors['notes']\n",
    "\n",
    "    note = NOTES.index(note)\n",
    "    note += (NOTES_IN_OCTAVE * octave)\n",
    "\n",
    "    assert 0 <= note <= 127, errors['notes']\n",
    "\n",
    "    return note\n",
    "\n",
    "\n",
    "array_of_notes = []\n",
    "for chord in chord_progression:\n",
    "    array_of_notes.extend(chords.from_shorthand(chord))\n",
    "\n",
    "array_of_note_numbers = []\n",
    "for note in array_of_notes:\n",
    "    OCTAVE = 4\n",
    "    array_of_note_numbers.append(note_to_number(note, OCTAVE))\n",
    "\n",
    "track = 0\n",
    "channel = 0\n",
    "time = 0  # In beats\n",
    "duration = 1  # In beats\n",
    "tempo = 120  # In BPM\n",
    "volume = 100  # 0-127, as per the MIDI standard\n",
    "\n",
    "MyMIDI = MIDIFile(1)  # One track, defaults to format 1 (tempo track is created\n",
    "# automatically)\n",
    "MyMIDI.addTempo(track, time, tempo)\n",
    "\n",
    "for i, pitch in enumerate(array_of_note_numbers):\n",
    "    MyMIDI.addNote(track, channel, pitch, time + i, duration, volume)\n",
    "\n",
    "with open(\"pure-edm-fire-arpeggio.mid\", \"wb\") as output_file:\n",
    "    MyMIDI.writeFile(output_file)"
   ]
  },
  {
   "cell_type": "code",
   "execution_count": 6,
   "metadata": {},
   "outputs": [],
   "source": [
    "from midiutil import MIDIFile\n",
    "from mingus.core import chords\n",
    "\n",
    "chord_progression = [\"Cmaj7\", \"Cmaj7\", \"Fmaj7\", \"Gdom7\"]\n",
    "\n",
    "NOTES = ['C', 'C#', 'D', 'Eb', 'E', 'F', 'F#', 'G', 'Ab', 'A', 'Bb', 'B']\n",
    "OCTAVES = list(range(11))\n",
    "NOTES_IN_OCTAVE = len(NOTES)\n",
    "\n",
    "errors = {\n",
    "    'notes': 'Bad input, please refer this spec-\\n'\n",
    "}\n",
    "\n",
    "\n",
    "def swap_accidentals(note):\n",
    "    if note == 'Db':\n",
    "        return 'C#'\n",
    "    if note == 'D#':\n",
    "        return 'Eb'\n",
    "    if note == 'E#':\n",
    "        return 'F'\n",
    "    if note == 'Gb':\n",
    "        return 'F#'\n",
    "    if note == 'G#':\n",
    "        return 'Ab'\n",
    "    if note == 'A#':\n",
    "        return 'Bb'\n",
    "    if note == 'B#':\n",
    "        return 'C'\n",
    "\n",
    "    return note\n",
    "\n",
    "\n",
    "def note_to_number(note: str, octave: int) -> int:\n",
    "    note = swap_accidentals(note)\n",
    "    assert note in NOTES, errors['notes']\n",
    "    assert octave in OCTAVES, errors['notes']\n",
    "\n",
    "    note = NOTES.index(note)\n",
    "    note += (NOTES_IN_OCTAVE * octave)\n",
    "\n",
    "    assert 0 <= note <= 127, errors['notes']\n",
    "\n",
    "    return note\n",
    "\n",
    "\n",
    "array_of_notes = []\n",
    "for chord in chord_progression:\n",
    "    array_of_notes.append(chords.from_shorthand(chord)[0])\n",
    "\n",
    "array_of_note_numbers = []\n",
    "for note in array_of_notes:\n",
    "    OCTAVE = 3\n",
    "    array_of_note_numbers.append(note_to_number(note, OCTAVE))\n",
    "\n",
    "track = 0\n",
    "channel = 0\n",
    "time = 0  # In beats\n",
    "duration = 1  # In beats\n",
    "tempo = 120  # In BPM\n",
    "volume = 100  # 0-127, as per the MIDI standard\n",
    "\n",
    "MyMIDI = MIDIFile(1)  # One track, defaults to format 1 (tempo track is created\n",
    "# automatically)\n",
    "MyMIDI.addTempo(track, time, tempo)\n",
    "\n",
    "for i, pitch in enumerate(array_of_note_numbers):\n",
    "    MyMIDI.addNote(track, channel, pitch, time + (i*4), duration, volume)\n",
    "\n",
    "with open(\"pure-edm-fire-bass.mid\", \"wb\") as output_file:\n",
    "    MyMIDI.writeFile(output_file)"
   ]
  },
  {
   "cell_type": "code",
   "execution_count": null,
   "metadata": {},
   "outputs": [],
   "source": [
    "# Install and play using https://www.reaper.fm/"
   ]
  }
 ],
 "metadata": {
  "kernelspec": {
   "display_name": "base",
   "language": "python",
   "name": "python3"
  },
  "language_info": {
   "codemirror_mode": {
    "name": "ipython",
    "version": 3
   },
   "file_extension": ".py",
   "mimetype": "text/x-python",
   "name": "python",
   "nbconvert_exporter": "python",
   "pygments_lexer": "ipython3",
   "version": "3.11.5"
  }
 },
 "nbformat": 4,
 "nbformat_minor": 2
}
